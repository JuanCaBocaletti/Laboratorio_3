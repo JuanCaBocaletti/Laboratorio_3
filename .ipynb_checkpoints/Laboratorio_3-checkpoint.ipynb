{
 "cells": [
  {
   "cell_type": "markdown",
   "id": "cc7fe3e7-5178-49fe-8b1d-91c78efd728d",
   "metadata": {},
   "source": [
    "# Laboratorio 3"
   ]
  },
  {
   "cell_type": "markdown",
   "id": "c667f710-a561-4099-815d-b279a9a88b41",
   "metadata": {},
   "source": [
    "Para este laboratorio deberá entregar el link de GitHub a un Notebook de Jupyter con todo el código y comentarios que considere necesario para dar solución a lo planteado, copie la pregunta en una celda de Markdown y de solución a la misma con las celdas de código de Python."
   ]
  },
  {
   "cell_type": "markdown",
   "id": "0e895e3a-0cc8-42bc-bdea-dc56a3e69678",
   "metadata": {
    "tags": []
   },
   "source": [
    "# Parte 1: Numpy:"
   ]
  },
  {
   "cell_type": "markdown",
   "id": "cca8d706-378e-429b-b8ef-ebf4cb33dd3e",
   "metadata": {},
   "source": [
    "Para los ejercicios siguientes genere el código que considere para resolver el problema que se le plantea."
   ]
  },
  {
   "cell_type": "markdown",
   "id": "4d6fdaef-8f70-485c-b6c0-1ec759f5deb3",
   "metadata": {},
   "source": [
    "1. ¿Cuál es el tamaño en bytes de un array de 1000 elementos de tipo booleano?"
   ]
  },
  {
   "cell_type": "code",
   "execution_count": 4,
   "id": "2a033528-945f-4fba-a23e-3ab21380c65a",
   "metadata": {
    "tags": []
   },
   "outputs": [
    {
     "name": "stdout",
     "output_type": "stream",
     "text": [
      "El tamaño del array de 1000 elementos booleanos en bytes es de 1000 bytes.\n"
     ]
    }
   ],
   "source": [
    "import numpy as np\n",
    "\n",
    "# Crear un array de 1000 elementos booleanos\n",
    "array = np.array([True]*1000, dtype=bool)\n",
    "\n",
    "# Calcular el tamaño en bytes\n",
    "tamano_bytes = array.nbytes\n",
    "\n",
    "# Imprimir el tamaño en bytes\n",
    "print(f\"El tamaño del array de 1000 elementos booleanos en bytes es de {tamano_bytes} bytes.\")"
   ]
  },
  {
   "cell_type": "markdown",
   "id": "af151656-66e4-4d8b-a074-aaca1c1d8a64",
   "metadata": {},
   "source": [
    "2. Cree un array cuyos elementos sean los enteros pares en [1,100] y en orden decreciente. Muestre los 10 últimos \n",
    "por pantalla."
   ]
  },
  {
   "cell_type": "code",
   "execution_count": 8,
   "id": "160b61d9-4278-46ee-bb1c-7487742da93b",
   "metadata": {
    "tags": []
   },
   "outputs": [
    {
     "name": "stdout",
     "output_type": "stream",
     "text": [
      "[20 18 16 14 12 10  8  6  4  2]\n"
     ]
    }
   ],
   "source": [
    "import numpy as np\n",
    "\n",
    "# Crear un array de enteros pares en [1,100] en orden decreciente\n",
    "array_2 = np.arange(100, 0, -1)\n",
    "array_2 = array_2[array_2 % 2 == 0]\n",
    "\n",
    "# Imprimir los últimos 10 elementos\n",
    "print(array_2[-10:])"
   ]
  },
  {
   "cell_type": "markdown",
   "id": "1ac51d40-1478-4fb7-a315-e810c3022a9b",
   "metadata": {},
   "source": [
    "3. Dado el array:\n",
    "\n",
    "2 4 5 6 n/\n",
    "0 3 7 4\n",
    "8 8 5 2\n",
    "1 5 6 1\n",
    "\n",
    "\n",
    "Seleccione con una instrucción el subarray de elementos\n",
    "\n",
    "0 3 7 4\n",
    "\n",
    "Después, seleccione el subarray de elementos\n",
    "\n",
    "2 5\n",
    "\n",
    "8 5"
   ]
  },
  {
   "cell_type": "code",
   "execution_count": null,
   "id": "21f466d1-abfd-4f3a-8595-af5a87eb954c",
   "metadata": {},
   "outputs": [],
   "source": []
  }
 ],
 "metadata": {
  "kernelspec": {
   "display_name": "Python 3 (ipykernel)",
   "language": "python",
   "name": "python3"
  },
  "language_info": {
   "codemirror_mode": {
    "name": "ipython",
    "version": 3
   },
   "file_extension": ".py",
   "mimetype": "text/x-python",
   "name": "python",
   "nbconvert_exporter": "python",
   "pygments_lexer": "ipython3",
   "version": "3.11.5"
  }
 },
 "nbformat": 4,
 "nbformat_minor": 5
}
