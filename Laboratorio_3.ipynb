{
 "cells": [
  {
   "cell_type": "markdown",
   "id": "cc7fe3e7-5178-49fe-8b1d-91c78efd728d",
   "metadata": {},
   "source": [
    "# Laboratorio 3"
   ]
  },
  {
   "cell_type": "markdown",
   "id": "c667f710-a561-4099-815d-b279a9a88b41",
   "metadata": {},
   "source": [
    "Para este laboratorio deberá entregar el link de GitHub a un Notebook de Jupyter con todo el código y comentarios que considere necesario para dar solución a lo planteado, copie la pregunta en una celda de Markdown y de solución a la misma con las celdas de código de Python."
   ]
  },
  {
   "cell_type": "markdown",
   "id": "0e895e3a-0cc8-42bc-bdea-dc56a3e69678",
   "metadata": {
    "tags": []
   },
   "source": [
    "# Parte 1: Numpy:"
   ]
  },
  {
   "cell_type": "markdown",
   "id": "cca8d706-378e-429b-b8ef-ebf4cb33dd3e",
   "metadata": {},
   "source": [
    "Para los ejercicios siguientes genere el código que considere para resolver el problema que se le plantea."
   ]
  },
  {
   "cell_type": "markdown",
   "id": "4d6fdaef-8f70-485c-b6c0-1ec759f5deb3",
   "metadata": {},
   "source": [
    "1.1. ¿Cuál es el tamaño en bytes de un array de 1000 elementos de tipo booleano?"
   ]
  },
  {
   "cell_type": "code",
   "execution_count": 67,
   "id": "2a033528-945f-4fba-a23e-3ab21380c65a",
   "metadata": {
    "tags": []
   },
   "outputs": [
    {
     "name": "stdout",
     "output_type": "stream",
     "text": [
      "El tamaño del array de 1000 elementos booleanos en bytes es de 1000 bytes.\n"
     ]
    }
   ],
   "source": [
    "# Carga de Libreria numpy\n",
    "import numpy as np\n",
    "\n",
    "# Crear un array de 1000 elementos booleanos\n",
    "array = np.array([True]*1000, dtype=bool)\n",
    "\n",
    "# Calcular el tamaño en bytes\n",
    "tamano_bytes = array.nbytes\n",
    "\n",
    "# Imprimir el tamaño en bytes\n",
    "print(f\"El tamaño del array de 1000 elementos booleanos en bytes es de {tamano_bytes} bytes.\")"
   ]
  },
  {
   "cell_type": "markdown",
   "id": "af151656-66e4-4d8b-a074-aaca1c1d8a64",
   "metadata": {},
   "source": [
    "1.2. Cree un array cuyos elementos sean los enteros pares en [1,100] y en orden decreciente. Muestre los 10 últimos \n",
    "por pantalla."
   ]
  },
  {
   "cell_type": "code",
   "execution_count": 41,
   "id": "160b61d9-4278-46ee-bb1c-7487742da93b",
   "metadata": {
    "tags": []
   },
   "outputs": [
    {
     "name": "stdout",
     "output_type": "stream",
     "text": [
      "[20 18 16 14 12 10  8  6  4  2]\n"
     ]
    }
   ],
   "source": [
    "# Crear un array de enteros pares en [1,100] en orden decreciente\n",
    "array_2 = np.arange(100, 0, -1)\n",
    "array_2 = array_2[array_2 % 2 == 0]\n",
    "\n",
    "# Imprimir los últimos 10 elementos\n",
    "print(array_2[-10:])"
   ]
  },
  {
   "cell_type": "markdown",
   "id": "1ac51d40-1478-4fb7-a315-e810c3022a9b",
   "metadata": {},
   "source": [
    "1.3. Dado el array:\n",
    "\n",
    "2 4 5 6\n",
    "\n",
    "0 3 7 4\n",
    "\n",
    "8 8 5 2\n",
    "\n",
    "1 5 6 1\n",
    "\n",
    "Seleccione con una instrucción el subarray de elementos\n",
    "\n",
    "0 3 7 4\n",
    "\n",
    "Después, seleccione el subarray de elementos\n",
    "\n",
    "2 5\n",
    "\n",
    "8 5"
   ]
  },
  {
   "cell_type": "code",
   "execution_count": 77,
   "id": "21f466d1-abfd-4f3a-8595-af5a87eb954c",
   "metadata": {
    "tags": []
   },
   "outputs": [
    {
     "name": "stdout",
     "output_type": "stream",
     "text": [
      "El primer subarray es: \n",
      "[0 3 7 4]\n",
      "\n",
      "El segundo subarray es: \n",
      "[[2 5]\n",
      " [8 5]]\n"
     ]
    }
   ],
   "source": [
    "# Crear el array\n",
    "array_3 = np.array([[2, 4, 5, 6], [0, 3, 7, 4], [8, 8, 5, 2], [1, 5, 6, 1]])\n",
    "\n",
    "# Seleccionar el subarray de elementos [0, 3, 7, 4]\n",
    "subarray_1 = array_3[1, :]\n",
    "\n",
    "# Seleccionar el subarray de elementos [2, 5] y [8, 5]\n",
    "subarray_2 = array_3[[0, 2], :][:, [0, 2]]\n",
    "\n",
    "# Imprimir el primer y segundo subarray\n",
    "print(f\"El primer subarray es: \\n{subarray_1}\")\n",
    "print(f\"\\nEl segundo subarray es: \\n{subarray_2}\")"
   ]
  },
  {
   "cell_type": "markdown",
   "id": "e9b85f9d-e33a-4df7-83de-1802c0d4ba4e",
   "metadata": {},
   "source": [
    "1.4. Dados los arrays a = [1, 4, 2, 7] y b = [1, 3, 2, 9], obtenga la media aritmética de la diferencia (a-b)."
   ]
  },
  {
   "cell_type": "code",
   "execution_count": 79,
   "id": "36494aa2-6140-44d3-a150-27a36349ba3b",
   "metadata": {
    "tags": []
   },
   "outputs": [
    {
     "name": "stdout",
     "output_type": "stream",
     "text": [
      "La media aritmética de a-b es -0.25.\n"
     ]
    }
   ],
   "source": [
    "# Definir los arrays\n",
    "a = np.array([1, 4, 2, 7])\n",
    "b = np.array([1, 3, 2, 9])\n",
    "\n",
    "# Calcular la diferencia entre listas\n",
    "diferencia = a - b\n",
    "\n",
    "# Calcular la media de la diferencia entre listas\n",
    "media_diferencia = np.mean(diferencia)\n",
    "\n",
    "# Imprimir el resultado\n",
    "print(f\"La media aritmética de a-b es {media_diferencia}.\")"
   ]
  },
  {
   "cell_type": "markdown",
   "id": "30652a66-3ed5-49b6-ad90-0936a451043d",
   "metadata": {},
   "source": [
    "1.5. Dados que los valores de cordenadas (x, y) en las columnas del array\n",
    "\n",
    "1.33 4.5\n",
    "\n",
    "30.0 10.7\n",
    "\n",
    "70.2 0.5\n",
    "\n",
    "Agregue a este array las coordenadas (37.1, -3.6). Y muestre en pantalla las dimensiones del nuevo \n",
    "array."
   ]
  },
  {
   "cell_type": "code",
   "execution_count": 75,
   "id": "70fddd68-2642-4064-998b-0992adecf5d4",
   "metadata": {
    "tags": []
   },
   "outputs": [
    {
     "name": "stdout",
     "output_type": "stream",
     "text": [
      "Array Inicial \n",
      "[[ 1.33  4.5 ]\n",
      " [30.3  10.7 ]\n",
      " [70.2   0.5 ]].\n",
      "\n",
      "Array Final \n",
      "[[ 1.33  4.5 ]\n",
      " [30.3  10.7 ]\n",
      " [70.2   0.5 ]\n",
      " [37.1  -3.6 ]].\n",
      "\n",
      "Las dimensiones del nuevo array son: (4, 2)\n"
     ]
    }
   ],
   "source": [
    "# Crear el array con las coordenadas iniciales\n",
    "array_4 = np.array([[1.33, 4.5], [30.3, 10.7], [70.2, 0.5]])\n",
    "\n",
    "# Imprimir Array Inicial\n",
    "print(f\"Array Inicial \\n{array_4}.\")\n",
    "\n",
    "# Nuevas coordenadas\n",
    "array_agregar = ([[37.1, -3.6]])\n",
    "\n",
    "# Agregar nuevas coordenadas al array\n",
    "array_4 = np.append(array_4, array_agregar, axis=0)\n",
    "\n",
    "# Imprimir Array Final\n",
    "print(f\"\\nArray Final \\n{array_4}.\")\n",
    "\n",
    "# Imprimir las dimensiones del nuevo array\n",
    "print(f\"\\nLas dimensiones del nuevo array son: {array_4.shape}\")"
   ]
  },
  {
   "cell_type": "markdown",
   "id": "0693cbd0-b393-46a3-ba8c-6dc926aadb23",
   "metadata": {},
   "source": [
    "1.6. Copie el array del ejercicio anterior. Traspóngalo y agregue ahora dos nuevos pares de coordenadas: (10.8, 3.0) y (35.8, 12.0)."
   ]
  },
  {
   "cell_type": "code",
   "execution_count": 74,
   "id": "38ba4ddd-bd0c-497d-8bf3-8414343fa082",
   "metadata": {
    "tags": []
   },
   "outputs": [
    {
     "name": "stdout",
     "output_type": "stream",
     "text": [
      "Array Inicial: \n",
      "[[ 1.33  4.5 ]\n",
      " [30.3  10.7 ]\n",
      " [70.2   0.5 ]\n",
      " [37.1  -3.6 ]]\n",
      "\n",
      "Array traspuesto: \n",
      "[[ 1.33 30.3  70.2  37.1 ]\n",
      " [ 4.5  10.7   0.5  -3.6 ]]\n",
      "\n",
      "Array Traspuesto: \n",
      "[[ 1.33 30.3  70.2  37.1  10.8  35.8 ]\n",
      " [ 4.5  10.7   0.5  -3.6   3.   12.  ]]\n"
     ]
    }
   ],
   "source": [
    "import numpy as np\n",
    "\n",
    "# Imprimir Array Inicial\n",
    "print(f\"Array Inicial: \\n{array_4}\")\n",
    "\n",
    "# Copiar el array\n",
    "array_5 = np.copy(array_4)\n",
    "\n",
    "#Trasponer el array\n",
    "array_5 = np.transpose(array_5)\n",
    "\n",
    "#Imprimir array traspuesto\n",
    "print(f\"\\nArray traspuesto: \\n{array_5}\")\n",
    "\n",
    "# Nuevas coordenadas\n",
    "array_agregar_2 = np.array([[10.8, 3.0], [35.8, 12.0]])\n",
    "\n",
    "#Trasponer el nuevo array\n",
    "array_agregar_2 = np.transpose(array_agregar_2)\n",
    "\n",
    "# Agregar nuevas coordenadas al array\n",
    "array_5 = np.append(array_5, array_agregar_2, axis=1)\n",
    "\n",
    "# Imprimir Array Trasposed\n",
    "print(f\"\\nArray Traspuesto: \\n{array_5}\")"
   ]
  },
  {
   "cell_type": "markdown",
   "id": "786d3c32-0e6d-4782-88e8-394960525738",
   "metadata": {},
   "source": [
    "# Parte 2: Exploración y Minería de Datos:"
   ]
  },
  {
   "cell_type": "markdown",
   "id": "25ef4fd3-9e2d-42da-931b-d3f8963a9d5b",
   "metadata": {},
   "source": [
    "Con el dataset nucleospoblacion.csv adjunto al laboratorio, luego responda las siguientes preguntas usando pandas y matplotlib."
   ]
  },
  {
   "cell_type": "code",
   "execution_count": 68,
   "id": "deef8718-4a4e-4b55-9e9a-9ecee0606fa9",
   "metadata": {
    "tags": []
   },
   "outputs": [],
   "source": [
    "# Carga de librerías pandas, matplotlib y seaborn\n",
    "import pandas as pd\n",
    "import matplotlib.pyplot as plt\n",
    "import seaborn as sns"
   ]
  },
  {
   "cell_type": "code",
   "execution_count": 70,
   "id": "1da4021f-0567-426d-a864-c7eca68988be",
   "metadata": {
    "tags": []
   },
   "outputs": [
    {
     "data": {
      "text/html": [
       "<div>\n",
       "<style scoped>\n",
       "    .dataframe tbody tr th:only-of-type {\n",
       "        vertical-align: middle;\n",
       "    }\n",
       "\n",
       "    .dataframe tbody tr th {\n",
       "        vertical-align: top;\n",
       "    }\n",
       "\n",
       "    .dataframe thead th {\n",
       "        text-align: right;\n",
       "    }\n",
       "</style>\n",
       "<table border=\"1\" class=\"dataframe\">\n",
       "  <thead>\n",
       "    <tr style=\"text-align: right;\">\n",
       "      <th></th>\n",
       "      <th>FID</th>\n",
       "      <th>OBJECTID</th>\n",
       "      <th>Texto</th>\n",
       "      <th>Poblacion</th>\n",
       "      <th>CodMun</th>\n",
       "      <th>Municipio</th>\n",
       "      <th>CodProvin</th>\n",
       "      <th>Provincia</th>\n",
       "      <th>X</th>\n",
       "      <th>Y</th>\n",
       "    </tr>\n",
       "  </thead>\n",
       "  <tbody>\n",
       "    <tr>\n",
       "      <th>0</th>\n",
       "      <td>0</td>\n",
       "      <td>1</td>\n",
       "      <td>Agüimes</td>\n",
       "      <td>29431.0</td>\n",
       "      <td>35002</td>\n",
       "      <td>Agüimes</td>\n",
       "      <td>35</td>\n",
       "      <td>Las Palmas</td>\n",
       "      <td>-15.446012</td>\n",
       "      <td>27.900542</td>\n",
       "    </tr>\n",
       "    <tr>\n",
       "      <th>1</th>\n",
       "      <td>1</td>\n",
       "      <td>2</td>\n",
       "      <td>Antigua</td>\n",
       "      <td>10458.0</td>\n",
       "      <td>35003</td>\n",
       "      <td>Antigua</td>\n",
       "      <td>35</td>\n",
       "      <td>Las Palmas</td>\n",
       "      <td>-14.013301</td>\n",
       "      <td>28.418966</td>\n",
       "    </tr>\n",
       "    <tr>\n",
       "      <th>2</th>\n",
       "      <td>2</td>\n",
       "      <td>3</td>\n",
       "      <td>Arrecife</td>\n",
       "      <td>58156.0</td>\n",
       "      <td>35004</td>\n",
       "      <td>Arrecife</td>\n",
       "      <td>35</td>\n",
       "      <td>Las Palmas</td>\n",
       "      <td>-13.551451</td>\n",
       "      <td>28.960649</td>\n",
       "    </tr>\n",
       "    <tr>\n",
       "      <th>3</th>\n",
       "      <td>3</td>\n",
       "      <td>4</td>\n",
       "      <td>Arucas</td>\n",
       "      <td>36745.0</td>\n",
       "      <td>35006</td>\n",
       "      <td>Arucas</td>\n",
       "      <td>35</td>\n",
       "      <td>Las Palmas</td>\n",
       "      <td>-15.521512</td>\n",
       "      <td>28.117496</td>\n",
       "    </tr>\n",
       "    <tr>\n",
       "      <th>4</th>\n",
       "      <td>4</td>\n",
       "      <td>5</td>\n",
       "      <td>Gáldar</td>\n",
       "      <td>24473.0</td>\n",
       "      <td>35009</td>\n",
       "      <td>Gáldar</td>\n",
       "      <td>35</td>\n",
       "      <td>Las Palmas</td>\n",
       "      <td>-15.654111</td>\n",
       "      <td>28.143873</td>\n",
       "    </tr>\n",
       "  </tbody>\n",
       "</table>\n",
       "</div>"
      ],
      "text/plain": [
       "   FID  OBJECTID     Texto  Poblacion  CodMun Municipio  CodProvin  \\\n",
       "0    0         1   Agüimes    29431.0   35002   Agüimes         35   \n",
       "1    1         2   Antigua    10458.0   35003   Antigua         35   \n",
       "2    2         3  Arrecife    58156.0   35004  Arrecife         35   \n",
       "3    3         4    Arucas    36745.0   35006    Arucas         35   \n",
       "4    4         5    Gáldar    24473.0   35009    Gáldar         35   \n",
       "\n",
       "    Provincia          X          Y  \n",
       "0  Las Palmas -15.446012  27.900542  \n",
       "1  Las Palmas -14.013301  28.418966  \n",
       "2  Las Palmas -13.551451  28.960649  \n",
       "3  Las Palmas -15.521512  28.117496  \n",
       "4  Las Palmas -15.654111  28.143873  "
      ]
     },
     "execution_count": 70,
     "metadata": {},
     "output_type": "execute_result"
    }
   ],
   "source": [
    "# Carga de datos del archivo NucleosPoblacion.csv\n",
    "dataset_npob = pd.read_csv(\"NucleosPoblacion.csv\", delimiter=',')\n",
    "dataset_npob.head()"
   ]
  },
  {
   "cell_type": "markdown",
   "id": "faba73e8-76d8-4244-a3da-079edcd203be",
   "metadata": {},
   "source": [
    "2.1 ¿Cuántos Municipios tienen más de 100000 habitantes?"
   ]
  },
  {
   "cell_type": "code",
   "execution_count": 80,
   "id": "2fb23221-c9cb-4bfb-a851-fe5f78d9ffd4",
   "metadata": {
    "tags": []
   },
   "outputs": [
    {
     "name": "stdout",
     "output_type": "stream",
     "text": [
      "Hay 62 municipios con más de 100000 habitantes.\n"
     ]
    }
   ],
   "source": [
    "# Lista de municipios que tienen más de 100000 habitantes\n",
    "muni_cienmil = dataset_npob[dataset_npob['Poblacion'] > 100000]\n",
    "\n",
    "# Contar municipios con más de 100000 habitantes\n",
    "muni_cienmil = muni_cienmil.shape[0]\n",
    "\n",
    "# Imprimir cantidad de municipios\n",
    "print(f\"Hay {muni_cienmil} municipios con más de 100000 habitantes.\")"
   ]
  },
  {
   "cell_type": "markdown",
   "id": "ae7392e8-1745-4e6e-a7f7-0321c398cd0b",
   "metadata": {},
   "source": [
    "2.2  Realice una gráfica de barras sobre la población de cada ciudad, ordenela de menor a mayor y responda:\n",
    "\n",
    "a. ¿Cuál es la segunda ciudad más poblada?\n",
    "b. ¿Qué posición ocupa Granada en el ranking de las ciudades más pobladas?"
   ]
  },
  {
   "cell_type": "code",
   "execution_count": 88,
   "id": "52e66b8d-f846-446f-9389-ea7e45ea7414",
   "metadata": {
    "tags": []
   },
   "outputs": [
    {
     "data": {
      "image/png": "[encoded data removed]",
      "text/plain": [
       "<Figure size 3000x1000 with 1 Axes>"
      ]
     },
     "metadata": {},
     "output_type": "display_data"
    },
    {
     "name": "stdout",
     "output_type": "stream",
     "text": [
      "La segunda ciudad más poblada es Barcelona.\n",
      "Granada ocupa la posición 20 en el ranking de las ciudades más pobladas.\n"
     ]
    }
   ],
   "source": [
    "# Agrupar por ciudad y sumar la población\n",
    "orden_ciudad = dataset_npob.groupby('Municipio')['Poblacion'].sum().sort_values()\n",
    "\n",
    "# Dado que la cantidad de ciudades es tanta que no se interpreta correctamente la grafica, decidi\n",
    "# mostrar solo el top 25\n",
    "# Seleccionar las primeras 25 ciudades más pobladas\n",
    "top_25 = orden_ciudad.tail(25)\n",
    "\n",
    "# Crear una gráfica de barras de la población de cada ciudad\n",
    "plt.figure(figsize=(30,10))\n",
    "top_25.plot(kind='bar')\n",
    "plt.title('Población de las primeras 25 ciudades más pobladas')\n",
    "plt.xlabel('Ciudad')\n",
    "plt.ylabel('Población')\n",
    "plt.show()\n",
    "\n",
    "# Encontrar la segunda ciudad más poblada\n",
    "segunda_ciudad = orden_ciudad.sort_values(ascending=False).index[1]\n",
    "print(f\"La segunda ciudad más poblada es {segunda_ciudad}.\")\n",
    "\n",
    "# Encontrar la posición de Granada en el ranking de las ciudades más pobladas\n",
    "ranking_granada = orden_ciudad.sort_values(ascending=False).index.tolist().index('Granada') + 1\n",
    "print(f\"Granada ocupa la posición {ranking_granada} en el ranking de las ciudades más pobladas.\")"
   ]
  },
  {
   "cell_type": "code",
   "execution_count": null,
   "id": "f52149fc-466d-4e51-8d9c-a1af0c0f2c6e",
   "metadata": {},
   "outputs": [],
   "source": []
  }
 ],
 "metadata": {
  "kernelspec": {
   "display_name": "Python 3 (ipykernel)",
   "language": "python",
   "name": "python3"
  },
  "language_info": {
   "codemirror_mode": {
    "name": "ipython",
    "version": 3
   },
   "file_extension": ".py",
   "mimetype": "text/x-python",
   "name": "python",
   "nbconvert_exporter": "python",
   "pygments_lexer": "ipython3",
   "version": "3.11.5"
  }
 },
 "nbformat": 4,
 "nbformat_minor": 5
}
