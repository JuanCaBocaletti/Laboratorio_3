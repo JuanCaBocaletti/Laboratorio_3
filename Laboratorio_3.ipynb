{
 "cells": [
  {
   "cell_type": "markdown",
   "id": "cc7fe3e7-5178-49fe-8b1d-91c78efd728d",
   "metadata": {},
   "source": [
    "# Laboratorio 3"
   ]
  },
  {
   "cell_type": "markdown",
   "id": "c667f710-a561-4099-815d-b279a9a88b41",
   "metadata": {},
   "source": [
    "Para este laboratorio deberá entregar el link de GitHub a un Notebook de Jupyter con todo el código y comentarios que considere necesario para dar solución a lo planteado, copie la pregunta en una celda de Markdown y de solución a la misma con las celdas de código de Python."
   ]
  },
  {
   "cell_type": "markdown",
   "id": "0e895e3a-0cc8-42bc-bdea-dc56a3e69678",
   "metadata": {
    "tags": []
   },
   "source": [
    "# Parte 1: Numpy:"
   ]
  },
  {
   "cell_type": "markdown",
   "id": "cca8d706-378e-429b-b8ef-ebf4cb33dd3e",
   "metadata": {},
   "source": [
    "Para los ejercicios siguientes genere el código que considere para resolver el problema que se le plantea."
   ]
  },
  {
   "cell_type": "markdown",
   "id": "4d6fdaef-8f70-485c-b6c0-1ec759f5deb3",
   "metadata": {},
   "source": [
    "1. ¿Cuál es el tamaño en bytes de un array de 1000 elementos de tipo booleano?"
   ]
  },
  {
   "cell_type": "code",
   "execution_count": 4,
   "id": "2a033528-945f-4fba-a23e-3ab21380c65a",
   "metadata": {
    "tags": []
   },
   "outputs": [
    {
     "name": "stdout",
     "output_type": "stream",
     "text": [
      "El tamaño del array de 1000 elementos booleanos en bytes es de 1000 bytes.\n"
     ]
    }
   ],
   "source": [
    "import numpy as np\n",
    "\n",
    "# Crear un array de 1000 elementos booleanos\n",
    "array = np.array([True]*1000, dtype=bool)\n",
    "\n",
    "# Calcular el tamaño en bytes\n",
    "tamano_bytes = array.nbytes\n",
    "\n",
    "# Imprimir el tamaño en bytes\n",
    "print(f\"El tamaño del array de 1000 elementos booleanos en bytes es de {tamano_bytes} bytes.\")"
   ]
  },
  {
   "cell_type": "markdown",
   "id": "af151656-66e4-4d8b-a074-aaca1c1d8a64",
   "metadata": {},
   "source": [
    "2. Cree un array cuyos elementos sean los enteros pares en [1,100] y en orden decreciente. Muestre los 10 últimos \n",
    "por pantalla."
   ]
  },
  {
   "cell_type": "code",
   "execution_count": 41,
   "id": "160b61d9-4278-46ee-bb1c-7487742da93b",
   "metadata": {
    "tags": []
   },
   "outputs": [
    {
     "name": "stdout",
     "output_type": "stream",
     "text": [
      "[20 18 16 14 12 10  8  6  4  2]\n"
     ]
    }
   ],
   "source": [
    "# Crear un array de enteros pares en [1,100] en orden decreciente\n",
    "array_2 = np.arange(100, 0, -1)\n",
    "array_2 = array_2[array_2 % 2 == 0]\n",
    "\n",
    "# Imprimir los últimos 10 elementos\n",
    "print(array_2[-10:])"
   ]
  },
  {
   "cell_type": "markdown",
   "id": "1ac51d40-1478-4fb7-a315-e810c3022a9b",
   "metadata": {},
   "source": [
    "3. Dado el array:\n",
    "\n",
    "2 4 5 6\n",
    "\n",
    "0 3 7 4\n",
    "\n",
    "8 8 5 2\n",
    "\n",
    "1 5 6 1\n",
    "\n",
    "Seleccione con una instrucción el subarray de elementos\n",
    "\n",
    "0 3 7 4\n",
    "\n",
    "Después, seleccione el subarray de elementos\n",
    "\n",
    "2 5\n",
    "\n",
    "8 5"
   ]
  },
  {
   "cell_type": "code",
   "execution_count": 40,
   "id": "21f466d1-abfd-4f3a-8595-af5a87eb954c",
   "metadata": {
    "tags": []
   },
   "outputs": [
    {
     "name": "stdout",
     "output_type": "stream",
     "text": [
      "El primer subarray es: [0 3 7 4]\n",
      "El segundo subarray es: [[2 5]\n",
      " [8 5]]\n"
     ]
    }
   ],
   "source": [
    "# Crear el array\n",
    "array_3 = np.array([[2, 4, 5, 6], [0, 3, 7, 4], [8, 8, 5, 2], [1, 5, 6, 1]])\n",
    "\n",
    "# Seleccionar el subarray de elementos [0, 3, 7, 4]\n",
    "subarray_1 = array_3[1, :]\n",
    "\n",
    "# Seleccionar el subarray de elementos [2, 5] y [8, 5]\n",
    "subarray_2 = array_3[[0, 2], :][:, [0, 2]]\n",
    "\n",
    "# Imprimir el primer y segundo subarray\n",
    "print(f\"El primer subarray es: {subarray_1}\")\n",
    "print(f\"El segundo subarray es: {subarray_2}\")"
   ]
  },
  {
   "cell_type": "markdown",
   "id": "e9b85f9d-e33a-4df7-83de-1802c0d4ba4e",
   "metadata": {},
   "source": [
    "4. Dados los arrays a = [1, 4, 2, 7] y b = [1, 3, 2, 9], obtenga la media aritmética de la diferencia (a-b)."
   ]
  },
  {
   "cell_type": "code",
   "execution_count": 43,
   "id": "36494aa2-6140-44d3-a150-27a36349ba3b",
   "metadata": {
    "tags": []
   },
   "outputs": [
    {
     "name": "stdout",
     "output_type": "stream",
     "text": [
      "[ 0  1  0 -2]\n",
      "La media aritmética de la diferencia (a-b) es -0.25.\n"
     ]
    }
   ],
   "source": [
    "# Definir los arrays\n",
    "a = np.array([1, 4, 2, 7])\n",
    "b = np.array([1, 3, 2, 9])\n",
    "\n",
    "# Calcular la diferencia entre listas\n",
    "diferencia = a - b\n",
    "\n",
    "# Calcular la media de la diferencia entre listas\n",
    "media_diferencia = np.mean(diferencia)\n",
    "\n",
    "# Imprimir el resultado\n",
    "print(f\"La media aritmética de la diferencia (a-b) es {media_diferencia}.\")"
   ]
  },
  {
   "cell_type": "markdown",
   "id": "30652a66-3ed5-49b6-ad90-0936a451043d",
   "metadata": {},
   "source": [
    "5. Dados que los valores de cordenadas (x, y) en las columnas del array\n",
    "\n",
    "1.33 4.5\n",
    "\n",
    "30.0 10.7\n",
    "\n",
    "70.2 0.5\n",
    "\n",
    "Agregue a este array las coordenadas (37.1, -3.6). Y muestre en pantalla las dimensiones del nuevo \n",
    "array."
   ]
  },
  {
   "cell_type": "code",
   "execution_count": 58,
   "id": "70fddd68-2642-4064-998b-0992adecf5d4",
   "metadata": {
    "tags": []
   },
   "outputs": [
    {
     "name": "stdout",
     "output_type": "stream",
     "text": [
      "Array Inicial \n",
      "[[ 1.33  4.5 ]\n",
      " [30.3  10.7 ]\n",
      " [70.2   0.5 ]].\n",
      "Array Final \n",
      "[[ 1.33  4.5 ]\n",
      " [30.3  10.7 ]\n",
      " [70.2   0.5 ]\n",
      " [37.1  -3.6 ]].\n"
     ]
    }
   ],
   "source": [
    "# Crear el array con las coordenadas iniciales\n",
    "array_4 = np.array([[1.33, 4.5], [30.3, 10.7], [70.2, 0.5]])\n",
    "\n",
    "# Imprimir Array Inicial\n",
    "print(f\"Array Inicial \\n{array_4}.\")\n",
    "\n",
    "# Nuevas coordenadas\n",
    "array_agregar = ([[37.1, -3.6]])\n",
    "\n",
    "# Agregar nuevas coordenadas al array\n",
    "array_4 = np.append(array_4, array_agregar, axis=0)\n",
    "\n",
    "# Imprimir Array Final\n",
    "print(f\"Array Final \\n{array_4}.\")"
   ]
  },
  {
   "cell_type": "markdown",
   "id": "0693cbd0-b393-46a3-ba8c-6dc926aadb23",
   "metadata": {},
   "source": [
    "6. Copie el array del ejercicio anterior. Traspóngalo y agregue ahora dos nuevos pares de coordenadas: (10.8, 3.0) y (35.8, 12.0)."
   ]
  },
  {
   "cell_type": "code",
   "execution_count": 65,
   "id": "38ba4ddd-bd0c-497d-8bf3-8414343fa082",
   "metadata": {
    "tags": []
   },
   "outputs": [
    {
     "name": "stdout",
     "output_type": "stream",
     "text": [
      "Array Inicial: \n",
      "[[ 1.33  4.5 ]\n",
      " [30.3  10.7 ]\n",
      " [70.2   0.5 ]\n",
      " [37.1  -3.6 ]]\n",
      "Array traspuesto: \n",
      "[[ 1.33 30.3  70.2  37.1 ]\n",
      " [ 4.5  10.7   0.5  -3.6 ]]\n",
      "Array Traspuesto: \n",
      "[[ 1.33 30.3  70.2  37.1  10.8  35.8 ]\n",
      " [ 4.5  10.7   0.5  -3.6   3.   12.  ]]\n"
     ]
    }
   ],
   "source": [
    "import numpy as np\n",
    "\n",
    "# Imprimir Array Inicial\n",
    "print(f\"Array Inicial: \\n{array_4}\")\n",
    "\n",
    "# Copiar el array\n",
    "array_5 = np.copy(array_4)\n",
    "\n",
    "#Trasponer el array\n",
    "array_5 = np.transpose(array_5)\n",
    "\n",
    "#Imprimir array traspuesto\n",
    "print(f\"Array traspuesto: \\n{array_5}\")\n",
    "\n",
    "# Nuevas coordenadas\n",
    "array_agregar_2 = np.array([[10.8, 3.0], [35.8, 12.0]])\n",
    "\n",
    "#Trasponer el nuevo array\n",
    "array_agregar_2 = np.transpose(array_agregar_2)\n",
    "\n",
    "# Agregar nuevas coordenadas al array\n",
    "array_5 = np.append(array_5, array_agregar_2, axis=1)\n",
    "\n",
    "# Imprimir Array Trasposed\n",
    "print(f\"Array Traspuesto: \\n{array_5}\")"
   ]
  },
  {
   "cell_type": "code",
   "execution_count": null,
   "id": "ba8f01e7-c4ad-415e-96ff-ba20d0068bb0",
   "metadata": {},
   "outputs": [],
   "source": []
  }
 ],
 "metadata": {
  "kernelspec": {
   "display_name": "Python 3 (ipykernel)",
   "language": "python",
   "name": "python3"
  },
  "language_info": {
   "codemirror_mode": {
    "name": "ipython",
    "version": 3
   },
   "file_extension": ".py",
   "mimetype": "text/x-python",
   "name": "python",
   "nbconvert_exporter": "python",
   "pygments_lexer": "ipython3",
   "version": "3.11.5"
  }
 },
 "nbformat": 4,
 "nbformat_minor": 5
}
