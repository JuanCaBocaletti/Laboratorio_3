{
 "cells": [
  {
   "cell_type": "markdown",
   "id": "cc7fe3e7-5178-49fe-8b1d-91c78efd728d",
   "metadata": {},
   "source": [
    "# Laboratorio 3"
   ]
  },
  {
   "cell_type": "markdown",
   "id": "c667f710-a561-4099-815d-b279a9a88b41",
   "metadata": {},
   "source": [
    "Para este laboratorio deberá entregar el link de GitHub a un Notebook de Jupyter con todo el código y comentarios que considere necesario para dar solución a lo planteado, copie la pregunta en una celda de Markdown y de solución a la misma con las celdas de código de Python."
   ]
  },
  {
   "cell_type": "code",
   "execution_count": null,
   "id": "c4c8477c-71a6-419d-94c1-0b2fd1fa5b45",
   "metadata": {
    "tags": []
   },
   "outputs": [],
   "source": [
    "# Creacion del repositorio en GitHub\n",
    "!git init"
   ]
  },
  {
   "cell_type": "code",
   "execution_count": null,
   "id": "b5e00ad8-b2db-43a5-a553-1df34db252f3",
   "metadata": {},
   "outputs": [],
   "source": []
  }
 ],
 "metadata": {
  "kernelspec": {
   "display_name": "Python 3 (ipykernel)",
   "language": "python",
   "name": "python3"
  },
  "language_info": {
   "codemirror_mode": {
    "name": "ipython",
    "version": 3
   },
   "file_extension": ".py",
   "mimetype": "text/x-python",
   "name": "python",
   "nbconvert_exporter": "python",
   "pygments_lexer": "ipython3",
   "version": "3.11.5"
  }
 },
 "nbformat": 4,
 "nbformat_minor": 5
}
